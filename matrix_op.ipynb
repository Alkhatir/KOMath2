{
 "cells": [
  {
   "attachments": {},
   "cell_type": "markdown",
   "metadata": {},
   "source": [
    "# Matrix operations for matrices, for which each entry is a function $f_{i,j} : \\mathbb{R} \\to \\mathbb{R}$\n",
    "## Implementation of an (point-wise) addition and multiplication of such matrices \n"
   ]
  },
  {
   "attachments": {},
   "cell_type": "markdown",
   "metadata": {},
   "source": [
    "#### Some imports"
   ]
  },
  {
   "cell_type": "code",
   "execution_count": 1,
   "metadata": {},
   "outputs": [],
   "source": [
    "import numpy as np\n",
    "import pandas as pd\n",
    "import seaborn as sns\n",
    "import matplotlib.pyplot as plt\n",
    "import matplotlib.image as mpimg\n"
   ]
  },
  {
   "attachments": {},
   "cell_type": "markdown",
   "metadata": {},
   "source": [
    "The Code part:"
   ]
  },
  {
   "cell_type": "code",
   "execution_count": 2,
   "metadata": {},
   "outputs": [],
   "source": [
    "def add_functions(f, g):\n",
    "    return lambda x: f(x) + g(x)\n",
    "def multiply_functions(f, g):\n",
    "    return lambda x: f(x) * g(x)\n",
    "\n",
    "def validate_function(in_1: np.ndarray,in_2:np.ndarray, op) -> np.ndarray or None:\n",
    "    try:\n",
    "        assert in_1.shape == in_2.shape\n",
    "        return in_1, in_2\n",
    "    except AssertionError:\n",
    "        print(f'The shapes of the two matrices you want to operate on, must be equivalent,',\n",
    "        'which they are not.')\n",
    "        ans = input('Would you like to use padding to solve this problem? Then please answer with <Yes>: ')\n",
    "        if ans == 'Yes' or ans == '<Yes>':\n",
    "            if op == add_functions:\n",
    "                fill_func = np.array([lambda x: x*0])\n",
    "            elif op == multiply_functions:\n",
    "                fill_func = np.array([lambda x: x**0])\n",
    "            if in_1.shape[0] <= in_2.shape[0] and in_1.shape[1] <= in_2.shape[1]:\n",
    "                matrix = fill_func.repeat(in_2.size).reshape(in_2.shape)\n",
    "                matrix[0:len(in_1), 0:len(in_1[0])] = in_1\n",
    "                in_1 = matrix\n",
    "            elif in_1.shape[0] >= in_2.shape[0] and in_1.shape[1] <= in_2.shape[1]:\n",
    "                matrix = fill_func.repeat(in_1.shape[0]*in_2.shape[1]).reshape((in_1.shape[0], in_2.shape[1]))\n",
    "                matrix[0:len(in_1), 0:len(in_1[0])] = in_1\n",
    "                in_1 = matrix\n",
    "                matrix = fill_func.repeat(in_1.shape[0]*in_2.shape[1]).reshape((in_1.shape[0], in_2.shape[1]))\n",
    "                matrix[0:len(in_2), 0:len(in_2[0])] = in_2\n",
    "                in_2 = matrix\n",
    "            elif in_1.shape[0] >= in_2.shape[0] and in_1.shape[1] >= in_2.shape[1]:\n",
    "                matrix = fill_func.repeat(in_1.size).reshape(in_1.shape)\n",
    "                matrix[0:len(in_2), 0:len(in_2[0])] = in_2\n",
    "                in_2 = matrix\n",
    "            elif in_1.shape[0] <= in_2.shape[0] and in_1.shape[1] >= in_2.shape[1]:\n",
    "                matrix = fill_func.repeat(in_2.shape[0]*in_1.shape[1]).reshape((in_2.shape[0], in_1.shape[1]))\n",
    "                matrix[0:len(in_1), 0:len(in_1[0])] = in_1\n",
    "                in_1 = matrix\n",
    "                matrix = fill_func.repeat(in_2.shape[0]*in_1.shape[1]).reshape((in_2.shape[0], in_1.shape[1]))\n",
    "                matrix[0:len(in_2), 0:len(in_2[0])] = in_2\n",
    "                in_2 = matrix\n",
    "            return in_1, in_2\n",
    "        else:\n",
    "            raise ValueError('Due to incompatibility problems the operation of these two matrices',\n",
    "                    'is not defined and will therefore be stopped.')\n",
    "\n",
    "def point_wise_operation(in_1: np.ndarray,in_2:np.ndarray, op) -> np.ndarray:\n",
    "    \n",
    "    \"\"\"This function takes 3 input arguments: two matrices which have entries that are functions and one operator.\n",
    "        It returns a matrix of the point wise implementation of the operator on the 2 matrices that were given as the input arguments.\"\"\"\n",
    "\n",
    "    dimension_check = validate_function(in_1, in_2, op)\n",
    "    in_1, in_2 = dimension_check\n",
    "    output = np.ndarray(shape=(len(in_1), len(in_2[0])), dtype=object)\n",
    "    for i in range(len(in_1)):\n",
    "        for j in range(len(in_2[0])):\n",
    "            output[i][j] = op(in_1[i][j], in_2[i][j])\n",
    "    return output\n",
    "    "
   ]
  },
  {
   "attachments": {},
   "cell_type": "markdown",
   "metadata": {},
   "source": [
    "Test Part for matrices with the same dimensions:"
   ]
  },
  {
   "cell_type": "code",
   "execution_count": 3,
   "metadata": {},
   "outputs": [
    {
     "name": "stdout",
     "output_type": "stream",
     "text": [
      "[[<function add_functions.<locals>.<lambda> at 0x000001C0FF488E50>\n",
      "  <function add_functions.<locals>.<lambda> at 0x000001C0FF488EE0>]\n",
      " [<function add_functions.<locals>.<lambda> at 0x000001C0FF488F70>\n",
      "  <function add_functions.<locals>.<lambda> at 0x000001C0FF472040>]]\n"
     ]
    }
   ],
   "source": [
    "m1 = np.array([[lambda x: x, lambda x: x**2 +5 ], [lambda x: x**3, lambda x: x**4]])\n",
    "m2 = np.array([[lambda x: x**5 + 4, lambda x: x**6], [lambda x: x**7 -7, lambda x: x**8]])\n",
    "\n",
    "m3 = point_wise_operation(m1, m2, add_functions)\n",
    "print(m3)"
   ]
  },
  {
   "cell_type": "code",
   "execution_count": 4,
   "outputs": [
    {
     "name": "stdout",
     "output_type": "stream",
     "text": [
      "[[<function multiply_functions.<locals>.<lambda> at 0x000001C0FF472940>\n",
      "  <function multiply_functions.<locals>.<lambda> at 0x000001C0FF4729D0>]\n",
      " [<function multiply_functions.<locals>.<lambda> at 0x000001C0FF472A60>\n",
      "  <function multiply_functions.<locals>.<lambda> at 0x000001C0FF472AF0>]]\n"
     ]
    }
   ],
   "source": [
    "m1 = np.array([[lambda x: x, lambda x: x**2 +5 ], [lambda x: x**3, lambda x: x**4]])\n",
    "m2 = np.array([[lambda x: x**5 + 4, lambda x: x**6], [lambda x: x**7 -7, lambda x: x**8]])\n",
    "\n",
    "m5 = point_wise_operation(m1, m2, multiply_functions)\n",
    "print(m5)"
   ],
   "metadata": {
    "collapsed": false
   }
  },
  {
   "cell_type": "markdown",
   "source": [
    "Test part for matrices with differing dimensions:"
   ],
   "metadata": {
    "collapsed": false
   }
  },
  {
   "cell_type": "code",
   "execution_count": 5,
   "outputs": [
    {
     "name": "stdout",
     "output_type": "stream",
     "text": [
      "The shapes of the two matrices you want to operate on, must be equivalent, which they are not.\n",
      "[[<function add_functions.<locals>.<lambda> at 0x000001C0FF47F280>\n",
      "  <function add_functions.<locals>.<lambda> at 0x000001C0FF47F1F0>]\n",
      " [<function add_functions.<locals>.<lambda> at 0x000001C0FF47F160>\n",
      "  <function add_functions.<locals>.<lambda> at 0x000001C0FF47F0D0>]]\n"
     ]
    }
   ],
   "source": [
    "m4 = np.array([[lambda x: x, lambda x: x**2 +5 ]])\n",
    "m2 = np.array([[lambda x: x**5 + 4, lambda x: x**6], [lambda x: x**7 -7, lambda x: x**8]])\n",
    "\n",
    "m6 = point_wise_operation(m4, m2, add_functions)\n",
    "print(m6)"
   ],
   "metadata": {
    "collapsed": false
   }
  },
  {
   "cell_type": "code",
   "execution_count": 6,
   "outputs": [
    {
     "name": "stdout",
     "output_type": "stream",
     "text": [
      "The shapes of the two matrices you want to operate on, must be equivalent, which they are not.\n",
      "Due to incompatibility problems the operation of these two matrices is not defined and will therefore be stopped.\n",
      "None\n"
     ]
    }
   ],
   "source": [
    "m4 = np.array([[lambda x: x, lambda x: x**2 +5 ]])\n",
    "m2 = np.array([[lambda x: x**5 + 4, lambda x: x**6], [lambda x: x**7 -7, lambda x: x**8]])\n",
    "\n",
    "m7 = point_wise_operation(m4, m2, multiply_functions)\n",
    "print(m7)"
   ],
   "metadata": {
    "collapsed": false
   }
  },
  {
   "attachments": {},
   "cell_type": "markdown",
   "metadata": {},
   "source": [
    "#### Implementation of function evaluation for such matrices"
   ]
  },
  {
   "cell_type": "code",
   "execution_count": 7,
   "metadata": {},
   "outputs": [],
   "source": [
    "def evaluate_matrix(in_matrix: np.ndarray, x: float) -> np.ndarray or None:\n",
    "    \n",
    "    \"\"\"This function takes a matrix of functions and a number x and returns a matrix \n",
    "        of the evaluation of the functions in the input matrix at x.\"\"\"\n",
    "\n",
    "    output = np.ndarray(shape=(len(in_matrix), len(in_matrix[0])), dtype=object)\n",
    "    for i in range(len(in_matrix)):\n",
    "        for j in range(len(in_matrix[0])):\n",
    "            output[i][j] = in_matrix[i][j](x)\n",
    "    return output"
   ]
  },
  {
   "attachments": {},
   "cell_type": "markdown",
   "metadata": {},
   "source": [
    "Test part:"
   ]
  },
  {
   "cell_type": "code",
   "execution_count": 8,
   "metadata": {},
   "outputs": [
    {
     "name": "stdout",
     "output_type": "stream",
     "text": [
      "[[38 73]\n",
      " [129 272]]\n"
     ]
    }
   ],
   "source": [
    "x = 2\n",
    "print(evaluate_matrix(m3, x))"
   ]
  },
  {
   "cell_type": "code",
   "execution_count": 9,
   "outputs": [
    {
     "name": "stdout",
     "output_type": "stream",
     "text": [
      "[[15645 468750]\n",
      " [9764750 244140625]]\n"
     ]
    }
   ],
   "source": [
    "x = 5\n",
    "print(evaluate_matrix(m5, x))"
   ],
   "metadata": {
    "collapsed": false
   }
  },
  {
   "cell_type": "code",
   "execution_count": 10,
   "outputs": [
    {
     "name": "stdout",
     "output_type": "stream",
     "text": [
      "[[250 743]\n",
      " [2180 6561]]\n"
     ]
    }
   ],
   "source": [
    "x = 3\n",
    "print(evaluate_matrix(m6, x))"
   ],
   "metadata": {
    "collapsed": false
   }
  },
  {
   "cell_type": "code",
   "execution_count": 11,
   "outputs": [
    {
     "name": "stdout",
     "output_type": "stream",
     "text": [
      "Evaluation is not possible for an unsuccessful point_wise operation due to the original matrices not matching in dimension.\n",
      "None\n"
     ]
    }
   ],
   "source": [
    "x = 4\n",
    "print(evaluate_matrix(m7, x))"
   ],
   "metadata": {
    "collapsed": false
   }
  }
 ],
 "metadata": {
  "kernelspec": {
   "display_name": "Python 3 (ipykernel)",
   "language": "python",
   "name": "python3"
  },
  "language_info": {
   "codemirror_mode": {
    "name": "ipython",
    "version": 3
   },
   "file_extension": ".py",
   "mimetype": "text/x-python",
   "name": "python",
   "nbconvert_exporter": "python",
   "pygments_lexer": "ipython3",
   "version": "3.10.9"
  }
 },
 "nbformat": 4,
 "nbformat_minor": 4
}
