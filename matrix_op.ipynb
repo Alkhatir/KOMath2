{
 "cells": [
  {
   "attachments": {},
   "cell_type": "markdown",
   "metadata": {},
   "source": [
    "# Matrix operations for matrices, for which each entry is a function $f_{i,j} : \\mathbb{R} \\to \\mathbb{R}$\n",
    "## Implementation of an (point-wise) addition and multiplication of such matrices \n"
   ]
  },
  {
   "attachments": {},
   "cell_type": "markdown",
   "metadata": {},
   "source": [
    "#### Some imports"
   ]
  },
  {
   "cell_type": "code",
   "execution_count": 1,
   "metadata": {},
   "outputs": [],
   "source": [
    "import numpy as np\n",
    "import pandas as pd\n",
    "import seaborn as sns\n",
    "import matplotlib.pyplot as plt\n",
    "import matplotlib.image as mpimg\n"
   ]
  },
  {
   "attachments": {},
   "cell_type": "markdown",
   "metadata": {},
   "source": [
    "The Code part:"
   ]
  },
  {
   "cell_type": "code",
   "execution_count": 2,
   "metadata": {},
   "outputs": [],
   "source": [
    "def add_functions(f, g):\n",
    "    return lambda x: f(x) + g(x)\n",
    "def multiply_functions(f, g):\n",
    "    return lambda x: f(x) * g(x)\n",
    "\n",
    "def validate_function(in_1: np.ndarray,in_2:np.ndarray, op) -> np.ndarray or None:\n",
    "    try:\n",
    "        assert in_1.shape == in_2.shape\n",
    "        return in_1, in_2\n",
    "    except AssertionError:\n",
    "        print(f'The shapes of the two matrices you want to operate on, must be equivalent,',\n",
    "        'which they are not.')\n",
    "        ans = input('Would you like to use padding to solve this problem? Then please answer with <Yes>: ')\n",
    "        if ans == 'Yes' or ans == '<Yes>':\n",
    "            if op == add_functions:\n",
    "                fill_func = np.array([lambda x: x*0])\n",
    "            elif op == multiply_functions:\n",
    "                fill_func = np.array([lambda x: x**0])\n",
    "            if in_1.shape[0] <= in_2.shape[0] and in_1.shape[1] <= in_2.shape[1]:\n",
    "                matrix = fill_func.repeat(in_2.size).reshape(in_2.shape)\n",
    "                matrix[0:len(in_1), 0:len(in_1[0])] = in_1\n",
    "                in_1 = matrix\n",
    "            elif in_1.shape[0] >= in_2.shape[0] and in_1.shape[1] <= in_2.shape[1]:\n",
    "                matrix = fill_func.repeat(in_1.shape[0]*in_2.shape[1]).reshape((in_1.shape[0], in_2.shape[1]))\n",
    "                matrix[0:len(in_1), 0:len(in_1[0])] = in_1\n",
    "                in_1 = matrix\n",
    "                matrix = fill_func.repeat(in_1.shape[0]*in_2.shape[1]).reshape((in_1.shape[0], in_2.shape[1]))\n",
    "                matrix[0:len(in_2), 0:len(in_2[0])] = in_2\n",
    "                in_2 = matrix\n",
    "            elif in_1.shape[0] >= in_2.shape[0] and in_1.shape[1] >= in_2.shape[1]:\n",
    "                matrix = fill_func.repeat(in_1.size).reshape(in_1.shape)\n",
    "                matrix[0:len(in_2), 0:len(in_2[0])] = in_2\n",
    "                in_2 = matrix\n",
    "            elif in_1.shape[0] <= in_2.shape[0] and in_1.shape[1] >= in_2.shape[1]:\n",
    "                matrix = fill_func.repeat(in_2.shape[0]*in_1.shape[1]).reshape((in_2.shape[0], in_1.shape[1]))\n",
    "                matrix[0:len(in_1), 0:len(in_1[0])] = in_1\n",
    "                in_1 = matrix\n",
    "                matrix = fill_func.repeat(in_2.shape[0]*in_1.shape[1]).reshape((in_2.shape[0], in_1.shape[1]))\n",
    "                matrix[0:len(in_2), 0:len(in_2[0])] = in_2\n",
    "                in_2 = matrix\n",
    "            return in_1, in_2\n",
    "        else:\n",
    "            raise ValueError('Due to incompatibility problems the operation of these two matrices',\n",
    "                    'is not defined and will therefore be stopped.')\n",
    "\n",
    "def point_wise_operation(in_1: np.ndarray,in_2:np.ndarray, op) -> np.ndarray:\n",
    "    \n",
    "    \"\"\"This function takes 3 input arguments: two matrices which have entries that are functions and one operator.\n",
    "        It returns a matrix of the point wise implementation of the operator on the 2 matrices that were given as the input arguments.\"\"\"\n",
    "\n",
    "    dimension_check = validate_function(in_1, in_2, op)\n",
    "    in_1, in_2 = dimension_check\n",
    "    output = np.ndarray(shape=(len(in_1), len(in_2[0])), dtype=object)\n",
    "    for i in range(len(in_1)):\n",
    "        for j in range(len(in_2[0])):\n",
    "            output[i][j] = op(in_1[i][j], in_2[i][j])\n",
    "    return output\n",
    "    "
   ]
  },
  {
   "attachments": {},
   "cell_type": "markdown",
   "metadata": {},
   "source": [
    "Test Part for matrices with the same dimensions:"
   ]
  },
  {
   "cell_type": "code",
   "execution_count": 3,
   "metadata": {},
   "outputs": [
    {
     "name": "stdout",
     "output_type": "stream",
     "text": [
      "[[<function add_functions.<locals>.<lambda> at 0x0000025EE5D260E0>\n",
      "  <function add_functions.<locals>.<lambda> at 0x0000025EE5D26170>]\n",
      " [<function add_functions.<locals>.<lambda> at 0x0000025EE5D26200>\n",
      "  <function add_functions.<locals>.<lambda> at 0x0000025EE5D26290>]]\n"
     ]
    }
   ],
   "source": [
    "m1 = np.array([[lambda x: x, lambda x: x**2 +5 ], [lambda x: x**3, lambda x: x**4]])\n",
    "m2 = np.array([[lambda x: x**5 + 4, lambda x: x**6], [lambda x: x**7 -7, lambda x: x**8]])\n",
    "\n",
    "m3 = point_wise_operation(m1, m2, add_functions)\n",
    "print(m3)"
   ]
  },
  {
   "cell_type": "code",
   "execution_count": 4,
   "outputs": [
    {
     "name": "stdout",
     "output_type": "stream",
     "text": [
      "[[<function multiply_functions.<locals>.<lambda> at 0x0000025EE5D26B00>\n",
      "  <function multiply_functions.<locals>.<lambda> at 0x0000025EE5D26B90>]\n",
      " [<function multiply_functions.<locals>.<lambda> at 0x0000025EE5D26C20>\n",
      "  <function multiply_functions.<locals>.<lambda> at 0x0000025EE5D26CB0>]]\n"
     ]
    }
   ],
   "source": [
    "m1 = np.array([[lambda x: x, lambda x: x**2 +5 ], [lambda x: x**3, lambda x: x**4]])\n",
    "m2 = np.array([[lambda x: x**5 + 4, lambda x: x**6], [lambda x: x**7 -7, lambda x: x**8]])\n",
    "\n",
    "m5 = point_wise_operation(m1, m2, multiply_functions)\n",
    "print(m5)"
   ],
   "metadata": {
    "collapsed": false
   }
  },
  {
   "cell_type": "markdown",
   "source": [
    "Test part for matrices with differing dimensions:"
   ],
   "metadata": {
    "collapsed": false
   }
  },
  {
   "cell_type": "code",
   "execution_count": 5,
   "outputs": [
    {
     "name": "stdout",
     "output_type": "stream",
     "text": [
      "The shapes of the two matrices you want to operate on, must be equivalent, which they are not.\n",
      "[[<function add_functions.<locals>.<lambda> at 0x0000025EE5D26D40>\n",
      "  <function add_functions.<locals>.<lambda> at 0x0000025EE5D27370>]\n",
      " [<function add_functions.<locals>.<lambda> at 0x0000025EE5D27400>\n",
      "  <function add_functions.<locals>.<lambda> at 0x0000025EE5D27490>]]\n"
     ]
    }
   ],
   "source": [
    "m4 = np.array([[lambda x: x, lambda x: x**2 +5 ]])\n",
    "m2 = np.array([[lambda x: x**5 + 4, lambda x: x**6], [lambda x: x**7 -7, lambda x: x**8]])\n",
    "\n",
    "m6 = point_wise_operation(m4, m2, add_functions)\n",
    "print(m6)"
   ],
   "metadata": {
    "collapsed": false
   }
  },
  {
   "cell_type": "code",
   "execution_count": 6,
   "outputs": [
    {
     "name": "stdout",
     "output_type": "stream",
     "text": [
      "The shapes of the two matrices you want to operate on, must be equivalent, which they are not.\n"
     ]
    },
    {
     "ename": "ValueError",
     "evalue": "('Due to incompatibility problems the operation of these two matrices', 'is not defined and will therefore be stopped.')",
     "output_type": "error",
     "traceback": [
      "\u001B[1;31m---------------------------------------------------------------------------\u001B[0m",
      "\u001B[1;31mAssertionError\u001B[0m                            Traceback (most recent call last)",
      "Cell \u001B[1;32mIn [2], line 8\u001B[0m, in \u001B[0;36mvalidate_function\u001B[1;34m(in_1, in_2, op)\u001B[0m\n\u001B[0;32m      7\u001B[0m \u001B[38;5;28;01mtry\u001B[39;00m:\n\u001B[1;32m----> 8\u001B[0m     \u001B[38;5;28;01massert\u001B[39;00m in_1\u001B[38;5;241m.\u001B[39mshape \u001B[38;5;241m==\u001B[39m in_2\u001B[38;5;241m.\u001B[39mshape\n\u001B[0;32m      9\u001B[0m     \u001B[38;5;28;01mreturn\u001B[39;00m in_1, in_2\n",
      "\u001B[1;31mAssertionError\u001B[0m: ",
      "\nDuring handling of the above exception, another exception occurred:\n",
      "\u001B[1;31mValueError\u001B[0m                                Traceback (most recent call last)",
      "Cell \u001B[1;32mIn [6], line 4\u001B[0m\n\u001B[0;32m      1\u001B[0m m4 \u001B[38;5;241m=\u001B[39m np\u001B[38;5;241m.\u001B[39marray([[\u001B[38;5;28;01mlambda\u001B[39;00m x: x, \u001B[38;5;28;01mlambda\u001B[39;00m x: x\u001B[38;5;241m*\u001B[39m\u001B[38;5;241m*\u001B[39m\u001B[38;5;241m2\u001B[39m \u001B[38;5;241m+\u001B[39m\u001B[38;5;241m5\u001B[39m ]])\n\u001B[0;32m      2\u001B[0m m2 \u001B[38;5;241m=\u001B[39m np\u001B[38;5;241m.\u001B[39marray([[\u001B[38;5;28;01mlambda\u001B[39;00m x: x\u001B[38;5;241m*\u001B[39m\u001B[38;5;241m*\u001B[39m\u001B[38;5;241m5\u001B[39m \u001B[38;5;241m+\u001B[39m \u001B[38;5;241m4\u001B[39m, \u001B[38;5;28;01mlambda\u001B[39;00m x: x\u001B[38;5;241m*\u001B[39m\u001B[38;5;241m*\u001B[39m\u001B[38;5;241m6\u001B[39m], [\u001B[38;5;28;01mlambda\u001B[39;00m x: x\u001B[38;5;241m*\u001B[39m\u001B[38;5;241m*\u001B[39m\u001B[38;5;241m7\u001B[39m \u001B[38;5;241m-\u001B[39m\u001B[38;5;241m7\u001B[39m, \u001B[38;5;28;01mlambda\u001B[39;00m x: x\u001B[38;5;241m*\u001B[39m\u001B[38;5;241m*\u001B[39m\u001B[38;5;241m8\u001B[39m]])\n\u001B[1;32m----> 4\u001B[0m m7 \u001B[38;5;241m=\u001B[39m \u001B[43mpoint_wise_operation\u001B[49m\u001B[43m(\u001B[49m\u001B[43mm4\u001B[49m\u001B[43m,\u001B[49m\u001B[43m \u001B[49m\u001B[43mm2\u001B[49m\u001B[43m,\u001B[49m\u001B[43m \u001B[49m\u001B[43mmultiply_functions\u001B[49m\u001B[43m)\u001B[49m\n\u001B[0;32m      5\u001B[0m \u001B[38;5;28mprint\u001B[39m(m7)\n",
      "Cell \u001B[1;32mIn [2], line 51\u001B[0m, in \u001B[0;36mpoint_wise_operation\u001B[1;34m(in_1, in_2, op)\u001B[0m\n\u001B[0;32m     46\u001B[0m \u001B[38;5;28;01mdef\u001B[39;00m \u001B[38;5;21mpoint_wise_operation\u001B[39m(in_1: np\u001B[38;5;241m.\u001B[39mndarray,in_2:np\u001B[38;5;241m.\u001B[39mndarray, op) \u001B[38;5;241m-\u001B[39m\u001B[38;5;241m>\u001B[39m np\u001B[38;5;241m.\u001B[39mndarray:\n\u001B[0;32m     48\u001B[0m     \u001B[38;5;124;03m\"\"\"This function takes 3 input arguments: two matrices which have entries that are functions and one operator.\u001B[39;00m\n\u001B[0;32m     49\u001B[0m \u001B[38;5;124;03m        It returns a matrix of the point wise implementation of the operator on the 2 matrices that were given as the input arguments.\"\"\"\u001B[39;00m\n\u001B[1;32m---> 51\u001B[0m     dimension_check \u001B[38;5;241m=\u001B[39m \u001B[43mvalidate_function\u001B[49m\u001B[43m(\u001B[49m\u001B[43min_1\u001B[49m\u001B[43m,\u001B[49m\u001B[43m \u001B[49m\u001B[43min_2\u001B[49m\u001B[43m,\u001B[49m\u001B[43m \u001B[49m\u001B[43mop\u001B[49m\u001B[43m)\u001B[49m\n\u001B[0;32m     52\u001B[0m     in_1, in_2 \u001B[38;5;241m=\u001B[39m dimension_check\n\u001B[0;32m     53\u001B[0m     output \u001B[38;5;241m=\u001B[39m np\u001B[38;5;241m.\u001B[39mndarray(shape\u001B[38;5;241m=\u001B[39m(\u001B[38;5;28mlen\u001B[39m(in_1), \u001B[38;5;28mlen\u001B[39m(in_2[\u001B[38;5;241m0\u001B[39m])), dtype\u001B[38;5;241m=\u001B[39m\u001B[38;5;28mobject\u001B[39m)\n",
      "Cell \u001B[1;32mIn [2], line 43\u001B[0m, in \u001B[0;36mvalidate_function\u001B[1;34m(in_1, in_2, op)\u001B[0m\n\u001B[0;32m     41\u001B[0m     \u001B[38;5;28;01mreturn\u001B[39;00m in_1, in_2\n\u001B[0;32m     42\u001B[0m \u001B[38;5;28;01melse\u001B[39;00m:\n\u001B[1;32m---> 43\u001B[0m     \u001B[38;5;28;01mraise\u001B[39;00m \u001B[38;5;167;01mValueError\u001B[39;00m(\u001B[38;5;124m'\u001B[39m\u001B[38;5;124mDue to incompatibility problems the operation of these two matrices\u001B[39m\u001B[38;5;124m'\u001B[39m,\n\u001B[0;32m     44\u001B[0m             \u001B[38;5;124m'\u001B[39m\u001B[38;5;124mis not defined and will therefore be stopped.\u001B[39m\u001B[38;5;124m'\u001B[39m)\n",
      "\u001B[1;31mValueError\u001B[0m: ('Due to incompatibility problems the operation of these two matrices', 'is not defined and will therefore be stopped.')"
     ]
    }
   ],
   "source": [
    "m4 = np.array([[lambda x: x, lambda x: x**2 +5 ]])\n",
    "m2 = np.array([[lambda x: x**5 + 4, lambda x: x**6], [lambda x: x**7 -7, lambda x: x**8]])\n",
    "\n",
    "m7 = point_wise_operation(m4, m2, multiply_functions)\n",
    "print(m7)"
   ],
   "metadata": {
    "collapsed": false
   }
  },
  {
   "cell_type": "code",
   "execution_count": 13,
   "outputs": [
    {
     "name": "stdout",
     "output_type": "stream",
     "text": [
      "The shapes of the two matrices you want to operate on, must be equivalent, which they are not.\n",
      "[[<function multiply_functions.<locals>.<lambda> at 0x0000025EE6998160>\n",
      "  <function multiply_functions.<locals>.<lambda> at 0x0000025EE69981F0>\n",
      "  <function multiply_functions.<locals>.<lambda> at 0x0000025EE6998280>]\n",
      " [<function multiply_functions.<locals>.<lambda> at 0x0000025EE6998310>\n",
      "  <function multiply_functions.<locals>.<lambda> at 0x0000025EE69983A0>\n",
      "  <function multiply_functions.<locals>.<lambda> at 0x0000025EE6998430>]]\n"
     ]
    }
   ],
   "source": [
    "m4 = np.array([[lambda x: x, lambda x: x**2 +5, lambda x: x*3 + 5**x ]])\n",
    "m2 = np.array([[lambda x: x**5 + 4, lambda x: x**6], [lambda x: x**7 -7, lambda x: x**8]])\n",
    "\n",
    "m7 = point_wise_operation(m2, m4, multiply_functions)\n",
    "print(m7)"
   ],
   "metadata": {
    "collapsed": false
   }
  },
  {
   "attachments": {},
   "cell_type": "markdown",
   "metadata": {},
   "source": [
    "#### Implementation of function evaluation for such matrices"
   ]
  },
  {
   "cell_type": "code",
   "execution_count": 7,
   "metadata": {},
   "outputs": [],
   "source": [
    "def evaluate_matrix(in_matrix: np.ndarray, x: float) -> np.ndarray or None:\n",
    "    \n",
    "    \"\"\"This function takes a matrix of functions and a number x and returns a matrix \n",
    "        of the evaluation of the functions in the input matrix at x. In case the point_wise_operation\n",
    "        did not return a matrix due to dimensions that don't match, evaluation won't be possible\"\"\"\n",
    "\n",
    "    output = np.ndarray(shape=(len(in_matrix), len(in_matrix[0])), dtype=object)\n",
    "    for i in range(len(in_matrix)):\n",
    "        for j in range(len(in_matrix[0])):\n",
    "            output[i][j] = in_matrix[i][j](x)\n",
    "    return output"
   ]
  },
  {
   "attachments": {},
   "cell_type": "markdown",
   "metadata": {},
   "source": [
    "Test part:"
   ]
  },
  {
   "cell_type": "code",
   "execution_count": 9,
   "metadata": {},
   "outputs": [
    {
     "name": "stdout",
     "output_type": "stream",
     "text": [
      "[[38 73]\n",
      " [129 272]]\n"
     ]
    }
   ],
   "source": [
    "x = 2\n",
    "print(evaluate_matrix(m3, x))"
   ]
  },
  {
   "cell_type": "code",
   "execution_count": 10,
   "outputs": [
    {
     "name": "stdout",
     "output_type": "stream",
     "text": [
      "[[15645 468750]\n",
      " [9764750 244140625]]\n"
     ]
    }
   ],
   "source": [
    "x = 5\n",
    "print(evaluate_matrix(m5, x))"
   ],
   "metadata": {
    "collapsed": false
   }
  },
  {
   "cell_type": "code",
   "execution_count": 11,
   "outputs": [
    {
     "name": "stdout",
     "output_type": "stream",
     "text": [
      "[[250 743]\n",
      " [2180 6561]]\n"
     ]
    }
   ],
   "source": [
    "x = 3\n",
    "print(evaluate_matrix(m6, x))"
   ],
   "metadata": {
    "collapsed": false
   }
  },
  {
   "cell_type": "code",
   "execution_count": 14,
   "outputs": [
    {
     "name": "stdout",
     "output_type": "stream",
     "text": [
      "[[72 576 31]\n",
      " [121 256 1]]\n"
     ]
    }
   ],
   "source": [
    "x = 2\n",
    "print(evaluate_matrix(m7, x))"
   ],
   "metadata": {
    "collapsed": false
   }
  }
 ],
 "metadata": {
  "kernelspec": {
   "display_name": "Python 3 (ipykernel)",
   "language": "python",
   "name": "python3"
  },
  "language_info": {
   "codemirror_mode": {
    "name": "ipython",
    "version": 3
   },
   "file_extension": ".py",
   "mimetype": "text/x-python",
   "name": "python",
   "nbconvert_exporter": "python",
   "pygments_lexer": "ipython3",
   "version": "3.10.9"
  }
 },
 "nbformat": 4,
 "nbformat_minor": 4
}
