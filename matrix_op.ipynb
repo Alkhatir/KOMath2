{
 "cells": [
  {
   "attachments": {},
   "cell_type": "markdown",
   "metadata": {},
   "source": [
    "# Matrix operations for matrices, for which each entry is a function $f_{i,j} : \\mathbb{R} \\to \\mathbb{R}$\n",
    "## Implementation of an (point-wise) addition and multiplication of such matrices \n"
   ]
  },
  {
   "attachments": {},
   "cell_type": "markdown",
   "metadata": {},
   "source": [
    "#### Some imports"
   ]
  },
  {
   "cell_type": "code",
   "execution_count": 1,
   "metadata": {},
   "outputs": [],
   "source": [
    "import numpy as np\n",
    "import pandas as pd\n",
    "import seaborn as sns\n",
    "import matplotlib.pyplot as plt\n",
    "import matplotlib.image as mpimg\n"
   ]
  },
  {
   "attachments": {},
   "cell_type": "markdown",
   "metadata": {},
   "source": [
    "The Code part:"
   ]
  },
  {
   "cell_type": "code",
   "execution_count": 2,
   "metadata": {},
   "outputs": [],
   "source": [
    "def add_functions(f, g):\n",
    "    return lambda x: f(x) + g(x)\n",
    "def multiply_functions(f, g):\n",
    "    return lambda x: f(x) * g(x)\n",
    "\n",
    "def point_wise_operation(in_1: np.ndarray,in_2:np.ndarray, op) -> np.ndarray:\n",
    "    \n",
    "    \"\"\"This function takes 3 input arguments: two matrices which have entries that are functions and one operator.\n",
    "        It returns a matrix of the point wise implementation of the operator on the 2 matrices that were given as the input arguments.\"\"\"\n",
    "\n",
    "    if op == multiply_functions():\n",
    "        try:\n",
    "            in_1.shape[1] == in_2.shape[0]\n",
    "        except ValueError as e:\n",
    "            print(f'The inner dimensions of the two matrices you want to mulitply, must be equivalent,' \n",
    "            'which they are not.')\n",
    "            ans = input('Would you like to use one-padding to solve this problem? Then please answer with <Yes>: ')\n",
    "            if ans == 'Yes' or ans == '<Yes>':\n",
    "                if in_1.shape[1] < in_2.shape[0]:\n",
    "                    ones_matrix = np.ones(in_1.shape[0], in_2.shape[1])\n",
    "                    in_1 = zero_matrix[in_1]\n",
    "                elif in_1.shape[1] > in_2.shape[0]:\n",
    "                    ones_matrix = np.ones(in_2.shape[0],in_1.shape[1])\n",
    "                    in_2 = zero_matrix[in_2]\n",
    "            else:\n",
    "                return print('Due to incompatibility problems this operation will be stopped.')\n",
    "    if op == add_functions():\n",
    "        try:\n",
    "            in_1.shape == in_2.shape\n",
    "        except ValueError as e:\n",
    "            print(f'The shapes of the two matrices you want to add, must be equivalent,' \n",
    "            'which they are not.')\n",
    "            ans = input('Would you like to use zero-padding to solve this problem? Then please answer with <Yes>: ')\n",
    "            if ans == 'Yes':\n",
    "                if in_1.shape[0] <= in_2.shape[0] and in_1.shape[1] <= in_2.shape[1]:\n",
    "                    zero_matrix = np.zeros(in_2.shape)\n",
    "                    in_1 = zero_matrix[in_1]\n",
    "                elif in_1.shape[0] >= in_2.shape[0] and in_1.shape[1] <= in_2.shape[1]:\n",
    "                    zero_matrix = np.zeros(in_1.shape[0],in_2.shape[1])\n",
    "                    in_1 = zero_matrix[in_1]\n",
    "                    in_2 = zero_matrix[in_2]\n",
    "                elif in_1.shape[0] >= in_2.shape[0] and in_1.shape[1] >= in_2.shape[1]:\n",
    "                    zero_matrix = np.zeros(in_1.shape)\n",
    "                    in_2 = zero_matrix[in_2]\n",
    "                elif in_1.shape[0] <= in_2.shape[0] and in_1.shape[1] >= in_2.shape[1]:\n",
    "                    zero_matrix = np.zeros(in_2.shape[0],in_1.shape[1])\n",
    "                    in_1 = zero_matrix[in_1]\n",
    "                    in_2 = zero_matrix[in_2]\n",
    "            else:\n",
    "                return print('Due to incompatibility problems this operation will be stopped.')\n",
    "\n",
    "        output = np.ndarray(shape=(len(in_1), len(in_2[0])), dtype=object)\n",
    "        for i in range(len(in_1)):\n",
    "            for j in range(len(in_2[0])):\n",
    "                output[i][j] = op(in_1[i][j], in_2[i][j])\n",
    "    return output\n",
    "    "
   ]
  },
  {
   "attachments": {},
   "cell_type": "markdown",
   "metadata": {},
   "source": [
    "Test Part:"
   ]
  },
  {
   "cell_type": "code",
   "execution_count": 3,
   "metadata": {},
   "outputs": [
    {
     "name": "stdout",
     "output_type": "stream",
     "text": [
      "[[<function add_functions.<locals>.<lambda> at 0x7f6c70dc8b80>\n",
      "  <function add_functions.<locals>.<lambda> at 0x7f6c70dc8c10>]\n",
      " [<function add_functions.<locals>.<lambda> at 0x7f6c70dc8ca0>\n",
      "  <function add_functions.<locals>.<lambda> at 0x7f6c70dc8d30>]]\n"
     ]
    }
   ],
   "source": [
    "m1 = np.array([[lambda x: x, lambda x: x**2 +5 ], [lambda x: x**3, lambda x: x**4]])\n",
    "m2 = np.array([[lambda x: x**5 + 4, lambda x: x**6], [lambda x: x**7 -7, lambda x: x**8]])\n",
    "\n",
    "m3 = point_wise_operation(m1, m2, add_functions)\n",
    "print(m3)"
   ]
  },
  {
   "attachments": {},
   "cell_type": "markdown",
   "metadata": {},
   "source": [
    "#### Implementation of function evaluation for such matrices"
   ]
  },
  {
   "cell_type": "code",
   "execution_count": 4,
   "metadata": {},
   "outputs": [],
   "source": [
    "def evaluate_matrix(in_matrix: np.ndarray, x: float) -> np.ndarray:\n",
    "    \n",
    "    \"\"\"This function takes a matrix of functions and a number x and returns a matrix \n",
    "        of the evaluation of the functions in the input matrix at x.\"\"\"\n",
    "\n",
    "    output = np.ndarray(shape=(len(in_matrix), len(in_matrix[0])), dtype=object)\n",
    "    for i in range(len(in_matrix)):\n",
    "        for j in range(len(in_matrix[0])):\n",
    "            output[i][j] = in_matrix[i][j](x)\n",
    "    return output"
   ]
  },
  {
   "attachments": {},
   "cell_type": "markdown",
   "metadata": {},
   "source": [
    "Test part:"
   ]
  },
  {
   "cell_type": "code",
   "execution_count": 5,
   "metadata": {},
   "outputs": [
    {
     "name": "stdout",
     "output_type": "stream",
     "text": [
      "[[38 73]\n",
      " [129 272]]\n"
     ]
    }
   ],
   "source": [
    "x = 2\n",
    "print(evaluate_matrix(m3, x))"
   ]
  }
 ],
 "metadata": {
  "kernelspec": {
   "display_name": "Python 3 (ipykernel)",
   "language": "python",
   "name": "python3"
  },
  "language_info": {
   "codemirror_mode": {
    "name": "ipython",
    "version": 3
   },
   "file_extension": ".py",
   "mimetype": "text/x-python",
   "name": "python",
   "nbconvert_exporter": "python",
   "pygments_lexer": "ipython3",
   "version": "3.10.9"
  }
 },
 "nbformat": 4,
 "nbformat_minor": 4
}
