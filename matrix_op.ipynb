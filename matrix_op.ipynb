{
 "cells": [
  {
   "attachments": {},
   "cell_type": "markdown",
   "metadata": {},
   "source": [
    "# Matrix operations for matrices, for which each entry is a function $f_{i,j} : \\mathbb{R} \\to \\mathbb{R}$\n",
    "## Implementation of an (point-wise) addition and multiplication of such matrices \n"
   ]
  },
  {
   "attachments": {},
   "cell_type": "markdown",
   "metadata": {},
   "source": [
    "#### Some imports"
   ]
  },
  {
   "cell_type": "code",
   "execution_count": 1,
   "metadata": {},
   "outputs": [],
   "source": [
    "import numpy as np\n",
    "import pandas as pd\n",
    "import seaborn as sns\n",
    "import matplotlib.pyplot as plt\n",
    "import matplotlib.image as mpimg\n"
   ]
  },
  {
   "attachments": {},
   "cell_type": "markdown",
   "metadata": {},
   "source": [
    "The Code part:"
   ]
  },
  {
   "cell_type": "code",
   "execution_count": 2,
   "metadata": {},
   "outputs": [],
   "source": [
    "def add_functions(f, g):\n",
    "    return lambda x: f(x) + g(x)\n",
    "def multiply_functions(f, g):\n",
    "    return lambda x: f(x) * g(x)\n",
    "\n",
    "def point_wise_operation(in_1: np.ndarray,in_2:np.ndarray, op) -> np.ndarray:\n",
    "    \"\"\"This function takes a list of numbers and an operator and returns a matrix of the point wise operation of the operator on the input list.\"\"\"\n",
    "    output = np.ndarray(shape=(len(in_1), len(in_2[0])), dtype=object)\n",
    "    for i in range(len(in_1)):\n",
    "        for j in range(len(in_2[0])):\n",
    "            output[i][j] = op(in_1[i][j], in_2[i][j])\n",
    "    return output\n",
    "    "
   ]
  },
  {
   "attachments": {},
   "cell_type": "markdown",
   "metadata": {},
   "source": [
    "Test Part:"
   ]
  },
  {
   "cell_type": "code",
   "execution_count": 3,
   "metadata": {},
   "outputs": [
    {
     "name": "stdout",
     "output_type": "stream",
     "text": [
      "[[<function add_functions.<locals>.<lambda> at 0x7f6c70dc8b80>\n",
      "  <function add_functions.<locals>.<lambda> at 0x7f6c70dc8c10>]\n",
      " [<function add_functions.<locals>.<lambda> at 0x7f6c70dc8ca0>\n",
      "  <function add_functions.<locals>.<lambda> at 0x7f6c70dc8d30>]]\n"
     ]
    }
   ],
   "source": [
    "m1 = np.array([[lambda x: x, lambda x: x**2 +5 ], [lambda x: x**3, lambda x: x**4]])\n",
    "m2 = np.array([[lambda x: x**5 + 4, lambda x: x**6], [lambda x: x**7 -7, lambda x: x**8]])\n",
    "\n",
    "m3 = point_wise_operation(m1, m2, add_functions)\n",
    "print(m3)"
   ]
  },
  {
   "attachments": {},
   "cell_type": "markdown",
   "metadata": {},
   "source": [
    "#### Implementation of function evaluation for such matrices"
   ]
  },
  {
   "cell_type": "code",
   "execution_count": 4,
   "metadata": {},
   "outputs": [],
   "source": [
    "def evaluate_matrix(in_matrix: np.ndarray, x: float) -> np.ndarray:\n",
    "    \"\"\"This function takes a matrix of functions and a number x and returns a matrix of the evaluation of the functions in the input matrix at x.\"\"\"\n",
    "    output = np.ndarray(shape=(len(in_matrix), len(in_matrix[0])), dtype=object)\n",
    "    for i in range(len(in_matrix)):\n",
    "        for j in range(len(in_matrix[0])):\n",
    "            output[i][j] = in_matrix[i][j](x)\n",
    "    return output"
   ]
  },
  {
   "attachments": {},
   "cell_type": "markdown",
   "metadata": {},
   "source": [
    "Test part:"
   ]
  },
  {
   "cell_type": "code",
   "execution_count": 5,
   "metadata": {},
   "outputs": [
    {
     "name": "stdout",
     "output_type": "stream",
     "text": [
      "[[38 73]\n",
      " [129 272]]\n"
     ]
    }
   ],
   "source": [
    "x = 2\n",
    "print(evaluate_matrix(m3, x))"
   ]
  }
 ],
 "metadata": {
  "kernelspec": {
   "display_name": "Python 3 (ipykernel)",
   "language": "python",
   "name": "python3"
  },
  "language_info": {
   "codemirror_mode": {
    "name": "ipython",
    "version": 3
   },
   "file_extension": ".py",
   "mimetype": "text/x-python",
   "name": "python",
   "nbconvert_exporter": "python",
   "pygments_lexer": "ipython3",
   "version": "3.10.9"
  }
 },
 "nbformat": 4,
 "nbformat_minor": 4
}
